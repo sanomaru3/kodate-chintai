{
 "cells": [
  {
   "cell_type": "code",
   "execution_count": 2,
   "id": "a6c83723-c015-4f05-a488-04c21d18588c",
   "metadata": {},
   "outputs": [],
   "source": [
    "import pandas as pd"
   ]
  },
  {
   "cell_type": "code",
   "execution_count": 3,
   "id": "21cfe432-0a3c-4b54-b2af-a9ffeaf5f593",
   "metadata": {},
   "outputs": [],
   "source": [
    "df = pd.DataFrame({\n",
    "    '1列目':[1,2,3,4],\n",
    "    '2列目':[10,20,30,40]\n",
    "})"
   ]
  },
  {
   "cell_type": "code",
   "execution_count": 5,
   "id": "99ea46cc-0a25-4e42-a7ba-b70a71351e89",
   "metadata": {},
   "outputs": [
    {
     "data": {
      "text/html": [
       "<div>\n",
       "<style scoped>\n",
       "    .dataframe tbody tr th:only-of-type {\n",
       "        vertical-align: middle;\n",
       "    }\n",
       "\n",
       "    .dataframe tbody tr th {\n",
       "        vertical-align: top;\n",
       "    }\n",
       "\n",
       "    .dataframe thead th {\n",
       "        text-align: right;\n",
       "    }\n",
       "</style>\n",
       "<table border=\"1\" class=\"dataframe\">\n",
       "  <thead>\n",
       "    <tr style=\"text-align: right;\">\n",
       "      <th></th>\n",
       "      <th>1列目</th>\n",
       "      <th>2列目</th>\n",
       "    </tr>\n",
       "  </thead>\n",
       "  <tbody>\n",
       "    <tr>\n",
       "      <th>0</th>\n",
       "      <td>1</td>\n",
       "      <td>10</td>\n",
       "    </tr>\n",
       "    <tr>\n",
       "      <th>1</th>\n",
       "      <td>2</td>\n",
       "      <td>20</td>\n",
       "    </tr>\n",
       "    <tr>\n",
       "      <th>2</th>\n",
       "      <td>3</td>\n",
       "      <td>30</td>\n",
       "    </tr>\n",
       "    <tr>\n",
       "      <th>3</th>\n",
       "      <td>4</td>\n",
       "      <td>40</td>\n",
       "    </tr>\n",
       "  </tbody>\n",
       "</table>\n",
       "</div>"
      ],
      "text/plain": [
       "   1列目  2列目\n",
       "0    1   10\n",
       "1    2   20\n",
       "2    3   30\n",
       "3    4   40"
      ]
     },
     "execution_count": 5,
     "metadata": {},
     "output_type": "execute_result"
    }
   ],
   "source": [
    "df"
   ]
  },
  {
   "cell_type": "code",
   "execution_count": 22,
   "id": "4f3425c9",
   "metadata": {},
   "outputs": [
    {
     "data": {
      "text/plain": [
       "dict_keys(['東京都', '神奈川県'])"
      ]
     },
     "execution_count": 22,
     "metadata": {},
     "output_type": "execute_result"
    }
   ],
   "source": [
    "dict = {\"東京都\":[\"練馬区\", \"大泉町\"],\n",
    "       \"神奈川県\":[\"平塚市\",\"湘南\", \"海\"]}\n",
    "dict.keys()"
   ]
  },
  {
   "cell_type": "code",
   "execution_count": 25,
   "id": "721ec9c7",
   "metadata": {},
   "outputs": [
    {
     "data": {
      "text/plain": [
       "list"
      ]
     },
     "execution_count": 25,
     "metadata": {},
     "output_type": "execute_result"
    }
   ],
   "source": [
    "type(dict[\"東京都\"])"
   ]
  },
  {
   "cell_type": "code",
   "execution_count": 17,
   "id": "beb51a0c",
   "metadata": {},
   "outputs": [
    {
     "ename": "NameError",
     "evalue": "name 'append' is not defined",
     "output_type": "error",
     "traceback": [
      "\u001b[1;31m---------------------------------------------------------------------------\u001b[0m",
      "\u001b[1;31mNameError\u001b[0m                                 Traceback (most recent call last)",
      "Input \u001b[1;32mIn [17]\u001b[0m, in \u001b[0;36m<cell line: 1>\u001b[1;34m()\u001b[0m\n\u001b[1;32m----> 1\u001b[0m dict_list \u001b[38;5;241m=\u001b[39m \u001b[43mappend\u001b[49m(\u001b[38;5;28mdict\u001b[39m\u001b[38;5;241m.\u001b[39mkeys())\n\u001b[0;32m      2\u001b[0m dict_list\n",
      "\u001b[1;31mNameError\u001b[0m: name 'append' is not defined"
     ]
    }
   ],
   "source": [
    "dict_list = append(dict.keys())\n",
    "dict_list"
   ]
  },
  {
   "cell_type": "code",
   "execution_count": 27,
   "id": "5cfdeb19",
   "metadata": {},
   "outputs": [
    {
     "name": "stdout",
     "output_type": "stream",
     "text": [
      "['one', 'two', 'three']\n",
      "[1, 2, 3]\n",
      "one -> 1\n",
      "two -> 2\n",
      "three -> 3\n"
     ]
    }
   ],
   "source": [
    "d = {'one':1, 'two':2, 'three':3}\n",
    "\n",
    "print(list(d.keys()))\n",
    "print(list(d.values()))\n",
    "\n",
    "for k in d:\n",
    "  print('%s -> %d' % (k, d[k]))"
   ]
  },
  {
   "cell_type": "code",
   "execution_count": 2,
   "id": "11909dd9",
   "metadata": {},
   "outputs": [],
   "source": [
    "import os"
   ]
  },
  {
   "cell_type": "code",
   "execution_count": 3,
   "id": "71b34e49",
   "metadata": {},
   "outputs": [],
   "source": [
    "path = \"./japan\""
   ]
  },
  {
   "cell_type": "code",
   "execution_count": 4,
   "id": "52efe9b4",
   "metadata": {},
   "outputs": [],
   "source": [
    "files = os.listdir(path)"
   ]
  },
  {
   "cell_type": "code",
   "execution_count": 5,
   "id": "4e55bd67",
   "metadata": {},
   "outputs": [
    {
     "data": {
      "text/plain": [
       "['東京都.csv', '沖縄県.csv']"
      ]
     },
     "execution_count": 5,
     "metadata": {},
     "output_type": "execute_result"
    }
   ],
   "source": [
    "files"
   ]
  },
  {
   "cell_type": "code",
   "execution_count": 6,
   "id": "8d6733ee",
   "metadata": {},
   "outputs": [
    {
     "name": "stdout",
     "output_type": "stream",
     "text": [
      "東京都.csv\n",
      "沖縄県.csv\n"
     ]
    }
   ],
   "source": [
    "for file in files:\n",
    "    print(file)"
   ]
  },
  {
   "cell_type": "code",
   "execution_count": 43,
   "id": "81cf4643",
   "metadata": {},
   "outputs": [],
   "source": [
    "import csv"
   ]
  },
  {
   "cell_type": "code",
   "execution_count": 49,
   "id": "2e75d5af",
   "metadata": {},
   "outputs": [],
   "source": [
    "csvfile = open('./japan/東京都.csv', 'r')"
   ]
  },
  {
   "cell_type": "code",
   "execution_count": 50,
   "id": "6b0e5a9a",
   "metadata": {},
   "outputs": [],
   "source": [
    "datas = csv.reader(csvfile)"
   ]
  },
  {
   "cell_type": "code",
   "execution_count": 51,
   "id": "5163aee1",
   "metadata": {
    "scrolled": false
   },
   "outputs": [
    {
     "data": {
      "text/plain": [
       "[]"
      ]
     },
     "execution_count": 51,
     "metadata": {},
     "output_type": "execute_result"
    }
   ],
   "source": [
    "data_japan = []\n",
    "data_japan"
   ]
  },
  {
   "cell_type": "code",
   "execution_count": 52,
   "id": "3f07b125",
   "metadata": {},
   "outputs": [
    {
     "name": "stdout",
     "output_type": "stream",
     "text": [
      "['千代田区']\n",
      "['中央区']\n",
      "['港区']\n",
      "['新宿区']\n",
      "['文京区']\n",
      "['台東区']\n",
      "['墨田区']\n",
      "['江東区']\n",
      "['品川区']\n",
      "['目黒区']\n",
      "['大田区']\n",
      "['世田谷区']\n",
      "['渋谷区']\n",
      "['中野区']\n",
      "['杉並区']\n",
      "['豊島区']\n",
      "['北区']\n",
      "['荒川区']\n",
      "['板橋区']\n",
      "['練馬区']\n",
      "['足立区']\n",
      "['葛飾区']\n",
      "['江戸川区']\n",
      "['八王子市']\n",
      "['立川市']\n",
      "['武蔵野市']\n",
      "['三鷹市']\n",
      "['青梅市']\n",
      "['府中市']\n",
      "['昭島市']\n",
      "['調布市']\n",
      "['町田市']\n",
      "['小金井市']\n",
      "['小平市']\n",
      "['日野市']\n",
      "['東村山市']\n",
      "['国分寺市']\n",
      "['国立市']\n",
      "['福生市']\n",
      "['狛江市']\n",
      "['東大和市']\n",
      "['清瀬市']\n",
      "['東久留米市']\n",
      "['武蔵村山市']\n",
      "['多摩市']\n",
      "['稲城市']\n",
      "['羽村市']\n",
      "['あきる野市']\n",
      "['西東京市']\n",
      "['西多摩郡瑞穂町']\n",
      "['西多摩郡日の出町']\n"
     ]
    }
   ],
   "source": [
    "for data in datas:\n",
    "    print(data)\n",
    "    data_japan.append(data)\n",
    "    "
   ]
  },
  {
   "cell_type": "code",
   "execution_count": 53,
   "id": "6a3e0788",
   "metadata": {},
   "outputs": [
    {
     "data": {
      "text/plain": [
       "[['千代田区'],\n",
       " ['中央区'],\n",
       " ['港区'],\n",
       " ['新宿区'],\n",
       " ['文京区'],\n",
       " ['台東区'],\n",
       " ['墨田区'],\n",
       " ['江東区'],\n",
       " ['品川区'],\n",
       " ['目黒区'],\n",
       " ['大田区'],\n",
       " ['世田谷区'],\n",
       " ['渋谷区'],\n",
       " ['中野区'],\n",
       " ['杉並区'],\n",
       " ['豊島区'],\n",
       " ['北区'],\n",
       " ['荒川区'],\n",
       " ['板橋区'],\n",
       " ['練馬区'],\n",
       " ['足立区'],\n",
       " ['葛飾区'],\n",
       " ['江戸川区'],\n",
       " ['八王子市'],\n",
       " ['立川市'],\n",
       " ['武蔵野市'],\n",
       " ['三鷹市'],\n",
       " ['青梅市'],\n",
       " ['府中市'],\n",
       " ['昭島市'],\n",
       " ['調布市'],\n",
       " ['町田市'],\n",
       " ['小金井市'],\n",
       " ['小平市'],\n",
       " ['日野市'],\n",
       " ['東村山市'],\n",
       " ['国分寺市'],\n",
       " ['国立市'],\n",
       " ['福生市'],\n",
       " ['狛江市'],\n",
       " ['東大和市'],\n",
       " ['清瀬市'],\n",
       " ['東久留米市'],\n",
       " ['武蔵村山市'],\n",
       " ['多摩市'],\n",
       " ['稲城市'],\n",
       " ['羽村市'],\n",
       " ['あきる野市'],\n",
       " ['西東京市'],\n",
       " ['西多摩郡瑞穂町'],\n",
       " ['西多摩郡日の出町']]"
      ]
     },
     "execution_count": 53,
     "metadata": {},
     "output_type": "execute_result"
    }
   ],
   "source": [
    "data_japan"
   ]
  },
  {
   "cell_type": "code",
   "execution_count": 55,
   "id": "cb7e3036",
   "metadata": {},
   "outputs": [
    {
     "data": {
      "text/plain": [
       "list"
      ]
     },
     "execution_count": 55,
     "metadata": {},
     "output_type": "execute_result"
    }
   ],
   "source": [
    "type(data_japan[0])"
   ]
  },
  {
   "cell_type": "code",
   "execution_count": 56,
   "id": "45ee3441",
   "metadata": {},
   "outputs": [],
   "source": [
    "dict = {}"
   ]
  },
  {
   "cell_type": "code",
   "execution_count": 64,
   "id": "2e1804a2",
   "metadata": {},
   "outputs": [],
   "source": [
    "dict[\"東京都\"] = data_japan"
   ]
  },
  {
   "cell_type": "code",
   "execution_count": 66,
   "id": "dfc12e73",
   "metadata": {},
   "outputs": [
    {
     "data": {
      "text/plain": [
       "tuple"
      ]
     },
     "execution_count": 66,
     "metadata": {},
     "output_type": "execute_result"
    }
   ],
   "source": [
    "type(tuple(dict[\"東京都\"]))"
   ]
  },
  {
   "cell_type": "code",
   "execution_count": null,
   "id": "a2e12d75",
   "metadata": {},
   "outputs": [],
   "source": [
    "# filesから県名を抽出する"
   ]
  },
  {
   "cell_type": "code",
   "execution_count": null,
   "id": "850a61fe",
   "metadata": {},
   "outputs": [],
   "source": []
  },
  {
   "cell_type": "code",
   "execution_count": null,
   "id": "d40b1773",
   "metadata": {},
   "outputs": [],
   "source": []
  }
 ],
 "metadata": {
  "kernelspec": {
   "display_name": "Python 3 (ipykernel)",
   "language": "python",
   "name": "python3"
  },
  "language_info": {
   "codemirror_mode": {
    "name": "ipython",
    "version": 3
   },
   "file_extension": ".py",
   "mimetype": "text/x-python",
   "name": "python",
   "nbconvert_exporter": "python",
   "pygments_lexer": "ipython3",
   "version": "3.9.1"
  }
 },
 "nbformat": 4,
 "nbformat_minor": 5
}
