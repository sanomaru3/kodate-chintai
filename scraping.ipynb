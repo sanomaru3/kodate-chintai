{
 "cells": [
  {
   "cell_type": "code",
   "execution_count": 26,
   "id": "eca7b175",
   "metadata": {},
   "outputs": [],
   "source": [
    "import datetime\n",
    "import os\n",
    "import pandas as pd\n",
    "import random\n",
    "from selenium import webdriver\n",
    "from selenium.webdriver.chrome.options import Options\n",
    "import sys\n",
    "from time import sleep"
   ]
  },
  {
   "cell_type": "code",
   "execution_count": 1,
   "id": "988c0a86",
   "metadata": {},
   "outputs": [],
   "source": [
    "url = 'https://myhome.nifty.com/rent/ct_house/'"
   ]
  },
  {
   "cell_type": "code",
   "execution_count": 7,
   "id": "9d7d5ec8",
   "metadata": {},
   "outputs": [],
   "source": [
    "input_dic = []"
   ]
  },
  {
   "cell_type": "code",
   "execution_count": 8,
   "id": "3314db23",
   "metadata": {},
   "outputs": [],
   "source": [
    "input_dic.append({\n",
    "        'prefecture':'沖縄県',\n",
    "        'city':'那覇市'    \n",
    "})"
   ]
  },
  {
   "cell_type": "code",
   "execution_count": null,
   "id": "b99e6124",
   "metadata": {},
   "outputs": [],
   "source": []
  },
  {
   "cell_type": "code",
   "execution_count": 12,
   "id": "717c94cf",
   "metadata": {},
   "outputs": [],
   "source": [
    "options = Options()"
   ]
  },
  {
   "cell_type": "code",
   "execution_count": 13,
   "id": "30849caf",
   "metadata": {},
   "outputs": [],
   "source": [
    "options.add_argument('--incognito')\n",
    "# headlessモードで実行\n",
    "options.add_argument('--headless')"
   ]
  },
  {
   "cell_type": "code",
   "execution_count": 15,
   "id": "57e93b85",
   "metadata": {},
   "outputs": [],
   "source": [
    "driver = webdriver.Chrome(options=options) "
   ]
  },
  {
   "cell_type": "code",
   "execution_count": null,
   "id": "41aac96c",
   "metadata": {},
   "outputs": [],
   "source": []
  },
  {
   "cell_type": "code",
   "execution_count": 23,
   "id": "bbcba2f1",
   "metadata": {},
   "outputs": [],
   "source": [
    "exist_prefecture, exist_city = False, False"
   ]
  },
  {
   "cell_type": "code",
   "execution_count": 27,
   "id": "a80b6af2",
   "metadata": {},
   "outputs": [
    {
     "name": "stdout",
     "output_type": "stream",
     "text": [
      "沖縄県那覇市のデータを取得します\n",
      "沖縄県那覇市の13件目のデータを取得中・・・沖縄県那覇市のデータ取得が完了しました\n"
     ]
    }
   ],
   "source": [
    "for input_data in input_dic:\n",
    "    # 結果となるデータ\n",
    "    result_dic_list = []\n",
    "    \n",
    "    driver.get(url)\n",
    "    sleep(random.uniform(2.5, 3.5))\n",
    "\n",
    "    # 都道府県選択\n",
    "    a_tags = driver.find_elements_by_tag_name('a')\n",
    "    for a_tag in a_tags:\n",
    "        if a_tag.text == input_data['prefecture']:\n",
    "            exist_prefecture = True\n",
    "            nextHref = a_tag.get_attribute('href')\n",
    "            # 「市区町村から探す」タブを選択させる\n",
    "            if nextHref[-5:] != '/city':\n",
    "                nextHref += 'city'  \n",
    "            \n",
    "            driver.get(nextHref)\n",
    "            sleep(random.uniform(2, 3))\n",
    "            break\n",
    "\n",
    "    # 移動先で市区町村を選択\n",
    "    a_tags = driver.find_elements_by_tag_name('a')\n",
    "    for a_tag in a_tags:\n",
    "        if a_tag.text == input_data['city']:\n",
    "            exist_cit = True\n",
    "            driver.get(a_tag.get_attribute('href'))\n",
    "            sleep(random.uniform(2, 3))\n",
    "            break\n",
    "    \n",
    "    prefecture = input_data['prefecture']\n",
    "    city = input_data['city']\n",
    "\n",
    "    print('{0}{1}のデータを取得します'.format(prefecture, city))\n",
    "\n",
    "    count = 1\n",
    "    exist_next = True\n",
    "    while exist_next:\n",
    "        # 物件情報が入っている要素を取得\n",
    "        cards = driver.find_elements_by_class_name('card')\n",
    "        cards = [card for card in cards if card.get_attribute('data-show-other-room') != None]\n",
    "\n",
    "        for card in cards:\n",
    "            sys.stdout.write('\\r' + '{0}{1}の{2}件目のデータを取得中・・・'.format(prefecture, city, count))\n",
    "            card_a_tags = card.find_elements_by_tag_name('a')\n",
    "\n",
    "            # 1.タイトル\n",
    "            title = card_a_tags[0].text\n",
    "\n",
    "            # 2.駅からの距離\n",
    "            distance_lists = card_a_tags[1].find_element_by_tag_name('ul').find_elements_by_tag_name('li')\n",
    "            distance = ''\n",
    "\n",
    "            for distance_list in distance_lists:\n",
    "                distance += distance_list.text\n",
    "\n",
    "            # 3.住所\n",
    "            address = card_a_tags[1].find_element_by_tag_name('p').text\n",
    "\n",
    "            dl_list = card_a_tags[1].find_elements_by_tag_name('dl')\n",
    "            # 4.総階数\n",
    "            floors = dl_list[0].find_element_by_tag_name('dd').text\n",
    "            # 5.築年数\n",
    "            age = dl_list[1].find_element_by_tag_name('dd').text\n",
    "            age = age.replace('年', '.').replace('ヶ月', '')\n",
    "            # 6.建物構造\n",
    "            construction = dl_list[2].find_element_by_tag_name('dd').text\n",
    "            # 7.駐車場\n",
    "            try:\n",
    "                badge = card_a_tags[1].find_element_by_class_name('badge')\n",
    "            except:\n",
    "                badge = None\n",
    "            if badge == None or badge.text != '駐車場あり':\n",
    "                parking = '-'\n",
    "            else:\n",
    "                parking = '駐車場あり'\n",
    "\n",
    "            card_tds = card.find_element_by_class_name('result-bukken-item').find_elements_by_tag_name('td')\n",
    "\n",
    "            ps_layout_area =card_tds[2].find_elements_by_tag_name('p')\n",
    "            # 8.間取り\n",
    "            layout = ps_layout_area[0].text\n",
    "            # 9.専有面積\n",
    "            area = ps_layout_area[1].text\n",
    "            area = area.replace('㎡', '')\n",
    "\n",
    "            ps_rent_managementFee = card_tds[3].find_elements_by_tag_name('p')\n",
    "            # 10.賃料\n",
    "            rent = ps_rent_managementFee[0].text\n",
    "            rent = rent.replace('万円', '')\n",
    "            # 11.管理費等\n",
    "            managementFee = ps_rent_managementFee[1].text\n",
    "            managementFee = managementFee.replace('円', '').replace(',', '')\n",
    "\n",
    "            dls_deposit_keyMoney = card_tds[4].find_elements_by_tag_name('dl')\n",
    "            # 12.敷金\n",
    "            deposit = dls_deposit_keyMoney[0].find_element_by_tag_name('dd').text\n",
    "            deposit = deposit.replace('円', '').replace(',', '')\n",
    "            # 敷金が「～ヶ月」表記だった場合に賃料との積にする\n",
    "            if deposit[-2:] == 'ヶ月':\n",
    "                deposit = float(rent) * float(deposit.replace('ヶ月', '')) * 10000\n",
    "            # 13.礼金\n",
    "            keyMoney = dls_deposit_keyMoney[1].find_element_by_tag_name('dd').text\n",
    "            keyMoney = keyMoney.replace('円', '').replace(',', '')\n",
    "            # 礼金が「～ヶ月」表記だった場合に賃料との積にする\n",
    "            if keyMoney[-2:] == 'ヶ月':\n",
    "                keyMoney = float(rent) * float(keyMoney.replace('ヶ月', '')) * 10000\n",
    "            \n",
    "            # 14.特徴\n",
    "            ps_features = card_tds[5].find_elements_by_tag_name('p')\n",
    "            features = ''\n",
    "            for p_features in ps_features:\n",
    "                features += p_features.text\n",
    "            # 15.検討中人数\n",
    "            div_user_count = card.find_element_by_class_name('bukken-user-count')\n",
    "            user_count = div_user_count.find_element_by_tag_name('span').find_element_by_tag_name('span').text\n",
    "            if user_count == '':\n",
    "                user_count = '0'\n",
    "            \n",
    "            result_dic_list.append({\n",
    "                '物件タイトル':title,\n",
    "                '駅からの徒歩':distance,\n",
    "                '住所':address,\n",
    "                '総階数':floors,\n",
    "                '築年数':age,\n",
    "                '建物構造':construction,\n",
    "                '駐車場あり':parking,\n",
    "                '間取り':layout,\n",
    "                '専有面積[㎡]':area,\n",
    "                '賃料[万円]':rent,\n",
    "                '管理費等':managementFee,\n",
    "                '敷金':deposit,\n",
    "                '礼金':keyMoney,\n",
    "                '特徴':features,\n",
    "                '検討中人数':user_count\n",
    "            })\n",
    "            count += 1\n",
    "\n",
    "        # '>'ボタンが有効なら次のページへ\n",
    "        exist_next = False\n",
    "        _next_buttons = driver.find_elements_by_class_name('button')\n",
    "        for _next_button in _next_buttons:\n",
    "            if _next_button.text == '>':\n",
    "                if _next_button.tag_name != 'a':\n",
    "                    break\n",
    "                elif _next_button.is_enabled():\n",
    "                    exist_next = True\n",
    "                    _next_button.click()\n",
    "                    sleep(random.uniform(2, 3))\n",
    "                break\n",
    "\n",
    "    # CSVファイルに出力\n",
    "    output_folder = 'output'\n",
    "    if not os.path.exists(output_folder):\n",
    "        os.mkdir(output_folder)\n",
    "\n",
    "    output_file = '{0}/{1}_{2}_{3}.csv'.format(\n",
    "        output_folder,\n",
    "        datetime.date.today().strftime(r'%Y%m%d'),\n",
    "        input_data['prefecture'],\n",
    "        input_data['city'])\n",
    "    df = pd.DataFrame(result_dic_list)\n",
    "    df.to_csv(output_file, index = False)\n",
    "    print('{0}{1}のデータ取得が完了しました'.format(prefecture, city))\n",
    "        \n",
    "# 終了\n"
   ]
  },
  {
   "cell_type": "code",
   "execution_count": 28,
   "id": "2fe92e70",
   "metadata": {},
   "outputs": [],
   "source": [
    "driver.quit()"
   ]
  },
  {
   "cell_type": "code",
   "execution_count": 22,
   "id": "71d915e8",
   "metadata": {},
   "outputs": [],
   "source": []
  },
  {
   "cell_type": "code",
   "execution_count": 24,
   "id": "57d5263f",
   "metadata": {},
   "outputs": [],
   "source": []
  },
  {
   "cell_type": "code",
   "execution_count": null,
   "id": "80d6d69d",
   "metadata": {},
   "outputs": [],
   "source": []
  },
  {
   "cell_type": "code",
   "execution_count": null,
   "id": "2962ed77",
   "metadata": {},
   "outputs": [],
   "source": []
  },
  {
   "cell_type": "code",
   "execution_count": null,
   "id": "a52681a6",
   "metadata": {},
   "outputs": [],
   "source": []
  },
  {
   "cell_type": "code",
   "execution_count": null,
   "id": "724cfdd7",
   "metadata": {},
   "outputs": [],
   "source": []
  }
 ],
 "metadata": {
  "kernelspec": {
   "display_name": "Python 3 (ipykernel)",
   "language": "python",
   "name": "python3"
  },
  "language_info": {
   "codemirror_mode": {
    "name": "ipython",
    "version": 3
   },
   "file_extension": ".py",
   "mimetype": "text/x-python",
   "name": "python",
   "nbconvert_exporter": "python",
   "pygments_lexer": "ipython3",
   "version": "3.9.1"
  }
 },
 "nbformat": 4,
 "nbformat_minor": 5
}
